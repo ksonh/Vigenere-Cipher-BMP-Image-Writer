{
  "nbformat": 4,
  "nbformat_minor": 0,
  "metadata": {
    "colab": {
      "provenance": [],
      "collapsed_sections": [
        "qHxe6FJB-fZs",
        "cOCEDX5wUbkr",
        "thC7rrZNA8nj",
        "VfR5fwW5QDNy"
      ],
      "authorship_tag": "ABX9TyOquFYWwdru8JYgQaEt42YE",
      "include_colab_link": true
    },
    "kernelspec": {
      "name": "python3",
      "display_name": "Python 3"
    },
    "language_info": {
      "name": "python"
    }
  },
  "cells": [
    {
      "cell_type": "markdown",
      "metadata": {
        "id": "view-in-github",
        "colab_type": "text"
      },
      "source": [
        "<a href=\"https://colab.research.google.com/github/ksonh/Vigenere-Cipher-BMP-Image-Writer/blob/main/Vigen%C3%A8re_Cipher_BMP_Image_Writer.ipynb\" target=\"_parent\"><img src=\"https://colab.research.google.com/assets/colab-badge.svg\" alt=\"Open In Colab\"/></a>"
      ]
    },
    {
      "cell_type": "markdown",
      "source": [
        "#Writing Encrypted Text to BMP Image: A How-To, by Kenneth Hanson"
      ],
      "metadata": {
        "id": "iQT5Dk1OINBl"
      }
    },
    {
      "cell_type": "markdown",
      "source": [
        "#Step 1: Encrypt Text File with Vigenère Method"
      ],
      "metadata": {
        "id": "qHxe6FJB-fZs"
      }
    },
    {
      "cell_type": "markdown",
      "source": [
        "Before we write a single ASCII code to a byte, we need a way to encrypt our text file. For our purposes we will use the Vigenère method, named in honor of French cryptographer Blaise de la Vigenère. This cipher shifts the alphabet to the position of the character in the key. Take the key MATRIX, for instance. For the first character in the text, the alphabet starts at the position of letter M. For the second, it starts at letter A, and so on and so forth.  "
      ],
      "metadata": {
        "id": "9feKgqR1-spg"
      }
    },
    {
      "cell_type": "markdown",
      "source": [
        "Writing Functions to Encrypt and Decrypt\n",
        "\n",
        "---\n",
        "\n"
      ],
      "metadata": {
        "id": "6zzRC8xjIzHn"
      }
    },
    {
      "cell_type": "markdown",
      "source": [
        "Our function will take two inputs: the text and the keyword. We will initiate an empty string called cipherText to which we will append the encrypted characters in the for loop. The keyword is capitalized for convenience. We initiate a counter called key_index to mark the index of the key character."
      ],
      "metadata": {
        "id": "vyRiozdZJkJY"
      }
    },
    {
      "cell_type": "code",
      "source": [
        "def vigenereEncrypt(textInput, keyword):\n",
        "   cipherText = \"\"\n",
        "   keyword = keyword.upper()\n",
        "   key_index = 0"
      ],
      "metadata": {
        "id": "Tv6d_f3-JVZa"
      },
      "execution_count": null,
      "outputs": []
    },
    {
      "cell_type": "markdown",
      "source": [
        "Now we move on to the for loop which will iterate through each character of the text. To begin, we check if the character is a letter in the alphabet. If so, the shift is set to the index number of the input character from letter A. We do the same for the keyword character, and add it to the shift. For good measure we make sure the shift does not exceed 26, the length of the alphabet."
      ],
      "metadata": {
        "id": "mi0hX4_9I570"
      }
    },
    {
      "cell_type": "code",
      "source": [
        "for char in textInput:\n",
        "   if char.isalpha():\n",
        "       #Determines difference of input character from capital letter A in the ASCII table.\n",
        "       shift = ord(char.upper()) - ord('A')\n",
        "       #Adds by keyword character from capital letter A.\n",
        "       shift += (ord(keyword[key_index]) - ord('A'))\n",
        "       #Ensures shift does not exceed length of the alphabet.\n",
        "       encrypt_shift = shift % 26\n"
      ],
      "metadata": {
        "id": "r61E5EuhNKi5"
      },
      "execution_count": null,
      "outputs": []
    },
    {
      "cell_type": "markdown",
      "source": [
        "In the loop definition we add the new character with the shift. If it is an uppercase letter, we use the ASCII codes for capital letters. Otherwise, we use those for the lowercase ones. If the key_index equals the length of the keyword, we set it to 0."
      ],
      "metadata": {
        "id": "1MS6gJCBOA35"
      }
    },
    {
      "cell_type": "code",
      "source": [
        "if char.isupper():\n",
        "   cipherText += chr(encrypt_shift + ord('A'))\n",
        "else:\n",
        "   cipherText += chr(encrypt_shift + ord('a'))\n",
        "key_index += 1\n",
        "if key_index == len(keyword):\n",
        "   key_index = 0"
      ],
      "metadata": {
        "id": "plakLnPxPicq"
      },
      "execution_count": null,
      "outputs": []
    },
    {
      "cell_type": "markdown",
      "source": [
        "The full function definition would appear as follows:"
      ],
      "metadata": {
        "id": "gXScAHmZQiZq"
      }
    },
    {
      "cell_type": "code",
      "source": [
        "def vigenereEncrypt(textInput, keyword):\n",
        "   cipherText = \"\"\n",
        "   keyword = keyword.upper()\n",
        "   key_index = 0\n",
        "\n",
        "   for char in textInput:\n",
        "      if char.isalpha():\n",
        "         shift = ord(char.upper() - ord('A'))\n",
        "         shift += (ord(keyword[key_index]) - ord('A'))\n",
        "         encrypt_shift = shift % 26\n",
        "\n",
        "         if char.isupper():\n",
        "             cipherText += chr(encrypt_shift + ord('A'))\n",
        "         else:\n",
        "             cipherText += chr(encrypt_shift + ord('a'))\n",
        "         key_index += 1\n",
        "         if key_index == len(keyword):\n",
        "            key_index = 0\n",
        "      else:\n",
        "         cipherText += char\n",
        "\n",
        "   return cipherText"
      ],
      "metadata": {
        "id": "K1rb-Q0BQn5k"
      },
      "execution_count": null,
      "outputs": []
    },
    {
      "cell_type": "markdown",
      "source": [
        "The function definition for decrypting runs in much the same way, except that we subtract by the index number of the keyword character from letter A, not add it."
      ],
      "metadata": {
        "id": "Eh8jTqD_ReFf"
      }
    },
    {
      "cell_type": "code",
      "source": [
        "#Determines difference of input character from capital letter A in the ASCII table.\n",
        "shift = ord(char.upper()) - ord('A')\n",
        "#Subtracts by keyword character from capital letter A.\n",
        "shift -= (ord(keyword[key_index]) - ord('A'))\n",
        "#Ensures the shift does not exceed the length of the alphabet.\n",
        "encrypt_shift = shift % 26"
      ],
      "metadata": {
        "id": "d-_0GvVGSLLJ"
      },
      "execution_count": null,
      "outputs": []
    },
    {
      "cell_type": "markdown",
      "source": [
        "Combining Encryption and Decryption into One Function\n",
        "\n",
        "---\n",
        "\n"
      ],
      "metadata": {
        "id": "-F-JGijxLQI7"
      }
    },
    {
      "cell_type": "markdown",
      "source": [
        "For simplicity, can combine these tasks into one method, and change the behavior based on the mode. We'll do this with a named argument. The vigenereCipher() function will accept the text input, keyword, and mode as arguments. In the method definition, we initiate an empty string to which we will add the characters of the encrypted or decrypted text. The keyword will be set to its uppercase version, and the key_index will track the current position in the keyword.  A for loop will iterate through each character of the text input.\n",
        "\n",
        "If the character is alphabetical, we find the difference of the ASCII code for that character in uppercase from that of capital A. In all other cases, we return the character, as with an empty space or a punctuation mark. When the mode is 'encrypt', we add the difference of the key_index character from capital A to the shift. Alternatively, when the mode is 'decrypt', we subtract that difference from the shift. Next, we ensure the shift does not exceed the length of the alphabet with a modulus. Finally, we determine whether the textInput character is uppercase or lowercase, and add the character of the ASCII code plus the shift to the result text. Then, we increment the key_index. If the key_index equals the length of the keyword, we set the key_index to 0. On completion we return the resulting text."
      ],
      "metadata": {
        "id": "ih5IavvWMA6p"
      }
    },
    {
      "cell_type": "code",
      "source": [
        "def vigenereCipher(textInput, keyword, mode):\n",
        "    resultText = \"\"\n",
        "    keyword = keyword.upper()\n",
        "    key_index = 0\n",
        "\n",
        "    for char in textInput:\n",
        "       if char.isalpha():\n",
        "            shift = ord(char.upper()) - ord('A')\n",
        "\n",
        "            if mode == 'encrypt':\n",
        "               shift += (ord(keyword[key_index]) - ord('A'))\n",
        "            elif mode == 'decrypt':\n",
        "               shift -= (ord(keyword[key_index]) - ord('A'))\n",
        "\n",
        "            encrypt_shift = shift % 26\n",
        "\n",
        "            if char.isupper():\n",
        "               resultText += chr(encrypt_shift + ord('A'))\n",
        "            else:\n",
        "               resultText += chr(encrypt_shift + ord('a'))\n",
        "\n",
        "            key_index += 1\n",
        "            if key_index == len(keyword):\n",
        "              key_index = 0\n",
        "       else:\n",
        "           resultText += char\n",
        "\n",
        "   return resultText"
      ],
      "metadata": {
        "id": "SQg3yhMBIeKx"
      },
      "execution_count": null,
      "outputs": []
    },
    {
      "cell_type": "markdown",
      "source": [
        "#Step 2: Break Down Process into Class"
      ],
      "metadata": {
        "id": "cOCEDX5wUbkr"
      }
    },
    {
      "cell_type": "markdown",
      "source": [
        "For modularity, we will define a class and call it ImageProcess. Our goal is to accept an encrypted text, parse through its characters, and write each character to a pixel according to its ordering. The program accepts a 24-bit BMP image and read the information from the header, including the size of the file in bytes, the start of the image data, the image width, and the image height. We need a function to compute the integer from four bytes using the equation $b_0+b_1\\cdot 256+b_2⋅ 256^2 +b_3 ⋅ 256^3$. We assume the little-endian byte order is used. The readInt() function will read four bytes starting at the offset, then compute the integer. The code would be as follows:\n",
        "\n"
      ],
      "metadata": {
        "id": "QIN-BjjtoQri"
      }
    },
    {
      "cell_type": "code",
      "source": [
        "def read_int(offset):\n",
        "    imageFile.seek(offset)\n",
        "\n",
        "    theBytes = imageFile.read(4)\n",
        "    result = 0\n",
        "    base = 1\n",
        "    for i in range(4):\n",
        "       result = result + theBytes[i] * base\n",
        "       base = base * 256\n",
        "\n",
        "    return result"
      ],
      "metadata": {
        "id": "CY5p5uWCwO2i"
      },
      "execution_count": null,
      "outputs": []
    },
    {
      "cell_type": "markdown",
      "source": [
        "In our constructor we initiate the instance variables for the file size, the start of the image data, the image width, and the image height. This information will be found at the positions of 2, 10, 18, and 22 of the header, which we pass into the read_int() function call:"
      ],
      "metadata": {
        "id": "Q4p620ZfyDOS"
      }
    },
    {
      "cell_type": "code",
      "source": [
        "fileSize = imageFile.read_int(2)\n",
        "start = imageFile.read_int(10)\n",
        "width = imageFile.read_int(18)\n",
        "height = imageFile.read_int(22)"
      ],
      "metadata": {
        "id": "aPuOKeCJzf5_"
      },
      "execution_count": null,
      "outputs": []
    },
    {
      "cell_type": "markdown",
      "source": [
        "Using Python's random module, we generate a random number representing the index position we want to start writing the text. For our program we write a character at every prime index. The method to generate the first index will then be called generate_prime_start(). It accepts the lower and upper bounds of the range, which are be 10 and 99 in this case. To avoid the situation that this goes off the border, we pass in the minimum of 99 or the maxStartingPoint in the place of the upper bound. The maxStartingPoint will be the difference of the width and the offset:"
      ],
      "metadata": {
        "id": "fyqjOll_0Ivo"
      }
    },
    {
      "cell_type": "code",
      "source": [
        "maxStartingPoint = width - start\n",
        "startingPoint = generate_prime_start(10, min(99, maxStartingPoint))"
      ],
      "metadata": {
        "id": "YbGb3mgG3U2-"
      },
      "execution_count": null,
      "outputs": []
    },
    {
      "cell_type": "markdown",
      "source": [
        "At this point we almost have what we need to generate a user hint. This will be in the form of a string of numbers, including the starting point, skip order, and the text size. The text size is simply the length of the encrypted text. But for the skip order we need a way to communicate we are printing at every prime index. To make it straightforward, we set the skip order to the ASCII code representation for the word \"PRIME\", which is \"8082737769\". With all this combined, we print the hint to the console. We also compute the image size for good measure:"
      ],
      "metadata": {
        "id": "IvXpSsLh2vww"
      }
    },
    {
      "cell_type": "code",
      "source": [
        "textSize = len(encryptedChars)\n",
        "skipOrder = \"8082737769\"\n",
        "userHint = str(startingPoint) + skipOrder + str(textSize)\n",
        "hintMessage = print(f'Here is your clue: {userHint}')\n",
        "imageSize = width * height * 3"
      ],
      "metadata": {
        "id": "TLeQ-Kul5vrp"
      },
      "execution_count": null,
      "outputs": []
    },
    {
      "cell_type": "markdown",
      "source": [
        "Next, we need to define a method to calculate the padding. Each row of the file is padded with additional bytes to make the number of bytes in the row divisible by four. The calculate_padding() function will accept two arguments: the current position of the file handle and the width of the row. We will assign this to a variable for us to use later:"
      ],
      "metadata": {
        "id": "BQrfi3Dv6ncS"
      }
    },
    {
      "cell_type": "code",
      "source": [
        "padding = calculate_padding(0, width)"
      ],
      "metadata": {
        "id": "8FSh97Xg8eUA"
      },
      "execution_count": null,
      "outputs": []
    },
    {
      "cell_type": "markdown",
      "source": [
        "Now there is not much else to do besides read the file. For this task, we have a nested loop. Using the if/else syntax, we either write the encrypted character or write the pixel as it read. This task can be made into a single function that changes its behavior based on whether the index of the column is prime or not. We create a function to determine that the number passed into it is prime, that is, that the column index is prime:"
      ],
      "metadata": {
        "id": "a9HHfnni8nEw"
      }
    },
    {
      "cell_type": "code",
      "source": [
        "for row in range(height):\n",
        "   for col in range(width):\n",
        "      if is_prime(col) == True:\n",
        "         imageFile.write_pixel(prime=True)\n",
        "      else:\n",
        "         imageFile.write_pixel()"
      ],
      "metadata": {
        "id": "cTS0qsqI_NDX"
      },
      "execution_count": null,
      "outputs": []
    },
    {
      "cell_type": "markdown",
      "source": [
        "Finally, we move the file handle to skip over empty spaces and/or padding from its current position, then close the file:"
      ],
      "metadata": {
        "id": "CvaXE9k__nNp"
      }
    },
    {
      "cell_type": "code",
      "source": [
        "   padding = calculate_padding(imageFile.tell(), width)\n",
        "   imageFile.seek(padding, SEEK_CUR)\n",
        "\n",
        "imageFile.close()"
      ],
      "metadata": {
        "id": "hYkkGC6k_zlT"
      },
      "execution_count": null,
      "outputs": []
    },
    {
      "cell_type": "markdown",
      "source": [
        "# Step 3: Define Class and Methods"
      ],
      "metadata": {
        "id": "thC7rrZNA8nj"
      }
    },
    {
      "cell_type": "markdown",
      "source": [
        "In the ImageProcess class there are four tasks we need to execute:  \n",
        "\n",
        "1.   Calculate the padding from the current index to make number of bytes divisible by four.\n",
        "2. Determine if a column index is a prime number.\n",
        "3.   Generate a prime number index at which to start writing.\n",
        "4. Write the pixel based on whether it is in a prime index position or not.\n",
        "5. Read a sequence of four bytes to generate an integer representation.\n",
        "\n",
        "All these tasks, of course, will be made into methods of the ImageProcess class. First, we need to define the instance variables in the constructor.\n",
        "\n",
        "\n",
        "\n"
      ],
      "metadata": {
        "id": "EvYVxCPUBXrt"
      }
    },
    {
      "cell_type": "markdown",
      "source": [
        "From step 2, we know there are four attributes we will need: the filename, width, start, and height. Since the cipher text is distinct to the image on which it is called, it should be made into an instance variable as well. We also need the image file of that image. An empty container for the encrypted characters is needed too. This is where we append the characters of the encrypted text in a for loop. In addition, we initialize an empty string for the Boolean value to check the message, which we will use later. Altogether, the class header and constructor would appear as so:"
      ],
      "metadata": {
        "id": "SrORvh7HD7Oo"
      }
    },
    {
      "cell_type": "code",
      "source": [
        "class ImageProcess:\n",
        "   def __init__(self, filename):\n",
        "       self._filename = filename\n",
        "       self._imageFile = \"\"\n",
        "       self._cipherText = \"\"\n",
        "       self._checkMessage = \"\"\n",
        "       self._encryptedChars = []\n",
        "       self._width = 0\n",
        "       self._start = 0\n",
        "       self._height = 0"
      ],
      "metadata": {
        "id": "AgZwrnBOFsfg"
      },
      "execution_count": null,
      "outputs": []
    },
    {
      "cell_type": "markdown",
      "source": [
        "Our class has no way of accessing the encrypted text we generated in the vigenereEncrypt() function. A method will not only have to pass in the cipher text, but loop through its characters and append each one to the self._encryptedChars container we initialized. We won't use the character itself, however, but its ASCII code:"
      ],
      "metadata": {
        "id": "9QaGnDqhG-OR"
      }
    },
    {
      "cell_type": "code",
      "source": [
        "def enter_cipher_text(self, cipherText):\n",
        "   self._cipherText = cipherText\n",
        "   for i in range(len(cipherText)):\n",
        "      self._encryptedChars.append(ord(cipherText[i]))"
      ],
      "metadata": {
        "id": "gzJ7ymQsIxei"
      },
      "execution_count": null,
      "outputs": []
    },
    {
      "cell_type": "markdown",
      "source": [
        "The main() method contains the logic of the image processing. First, it asks if the user wants the message to be printed to the console. Then, it extracts information from the image header, and prints the hint. A nested for loop iterates through each pixel and writes the byte triplet for blue, green, and red, changing its behavior based on whether the column index is prime or not. Whenever a character is written a counter is incremented. Finally, we check if they wanted the message to be printed, in which case we tell them to decrypt the message:"
      ],
      "metadata": {
        "id": "7xsgj4ILJWTO"
      }
    },
    {
      "cell_type": "code",
      "source": [
        "def main(self):\n",
        "   askCheck = input(\"Enter Y if you want to check the message, else enter N: \")\n",
        "   self._checkMessage = askCheck\n",
        "\n",
        "   #To open the binary file for reading and writing.\n",
        "   self._imageFile = open(self._filename, \"rb+\")\n",
        "\n",
        "   #To extract information from the image header.\n",
        "   fileSize = self.read_int(2)\n",
        "   self._start = self.read_int(10)\n",
        "   self._width = self.read_int(18)\n",
        "   self._height = self.read_int(22)\n",
        "\n",
        "   maxStartingPoint = self._width - self._start\n",
        "   startingPoint = self.generate_prime_start(10, min(99, maxStartingPoint))\n",
        "   textSize = len(self._encryptedChars)\n",
        "   skipOrder = \"8082737769\"\n",
        "   userHint = str(startingPoint) + skipOrder + str(textSize)\n",
        "   hintMessage = print(f'Here is your clue: {userHint}')\n",
        "   imageSize = self._width * self._height * 3\n",
        "\n",
        "   #To determine that scan lines occupy multiples of four bytes.\n",
        "   padding - self.calculate_padding(0)\n",
        "\n",
        "   charsCount = 0\n",
        "   for row in range(self._height):\n",
        "     for col in range(self._width):\n",
        "        if self.is_prime(col):\n",
        "           self.write_pixel(chars=self._encryptedChars, i=charsCount, checkMessage=self._checkMessage, prime=True)\n",
        "           charsCount += 1\n",
        "        else:\n",
        "           self.write_pixel()\n",
        "\n",
        "      #Moves file pointer to skip over empty spaces and/or padding.\n",
        "      padding = self.calculate_padding(self._imageFile.tell(), self._width)\n",
        "      self._imageFile.seek(padding, SEEK_CUR)\n",
        "\n",
        "   self._imageFile.close()\n",
        "\n",
        "   if self._checkMessage == \"Y\":\n",
        "      print(\"Now decrypt the message according to the Vigenère cipher method.\")\n"
      ],
      "metadata": {
        "id": "SVZQreMEMUJs"
      },
      "execution_count": null,
      "outputs": []
    },
    {
      "cell_type": "markdown",
      "source": [
        "Next, we will define the calculate_padding() method, which takes the current_position and width of the row as arguments. At the start of the definition we calculate the line_size, which is the width of the row times three. Using the if/else syntax, we check if the current position plus the line size is divisible by 4, in which case we return a 0 for adjustment. If not, we determine how many bytes we need to reach the next multiple of 4:"
      ],
      "metadata": {
        "id": "BivGVbx_QQkM"
      }
    },
    {
      "cell_type": "code",
      "source": [
        "def calculate_padding(self, current_position):\n",
        "   line_size = self._width * 3\n",
        "   if (current_position + line_size) % 4 == 0:\n",
        "      return 0\n",
        "   else:\n",
        "      return 4 - (current_position + line_size) % 4"
      ],
      "metadata": {
        "id": "g5jNRk9a7lTb"
      },
      "execution_count": null,
      "outputs": []
    },
    {
      "cell_type": "markdown",
      "source": [
        "Our next task is to determine if the index position of the column is prime, in which case we will return True, else we will return False. Using a for loop, we iterate from 2 to the square root of the number, given that for any composite number at least one factor must be less than or equal to the square root of the number. Inside the loop, we check if the number is divisible by the counter. If so, the number is not prime and the method returns False. In all other cases, the function returns True:"
      ],
      "metadata": {
        "id": "PfsNrGA98Doa"
      }
    },
    {
      "cell_type": "code",
      "source": [
        "def is_prime(self, col):\n",
        "   if col < 2:\n",
        "     return False\n",
        "   for i in range(2, int(col**0.5) + 1):\n",
        "      if col % i == 0:\n",
        "         return False\n",
        "   return True"
      ],
      "metadata": {
        "id": "leneBJh49lx6"
      },
      "execution_count": null,
      "outputs": []
    },
    {
      "cell_type": "markdown",
      "source": [
        "According to our insertion scheme, we need to generate a prime number start. This function accepts the lower bound and upper bound as arguments. Using .randint() from the random module, we calculate a random number between those ranges, and continue doing so until the number is prime:"
      ],
      "metadata": {
        "id": "HBgfn2_O99Ha"
      }
    },
    {
      "cell_type": "code",
      "source": [
        "def generate_prime_start(self, min_value, max_value):\n",
        "   num = random.randint(min_value, max_value)\n",
        "\n",
        "   while not self.isprime(num):\n",
        "     num = random.randint(min_value, max_value)\n",
        "\n",
        "   return num"
      ],
      "metadata": {
        "id": "92n0ogRQ-vnj"
      },
      "execution_count": null,
      "outputs": []
    },
    {
      "cell_type": "markdown",
      "source": [
        "Now we turn to the crucial task of writing the pixel. Recall from step two that we want to change the behavior of the writing based on whether the column index is prime or not. This can be achieved with a keyword argument set to a Boolean value. We also want a way to print out the encrypted message in the bytes objects. We'll do this with a keyword argument as well. A counter will be passed to indicate how many characters have been printed.\n",
        "\n",
        "At the beginning of the method, we read three bytes, and assign each byte to its corresponding color. Afterwards, we check if the column is prime or the counter is less than the length of the chars list, in which case we move the file handle backwards by three bytes and write over the sequence of bytes it just read, writing the character in the position where the red byte was placed. If checkMessage is set to \"Y\", we print this byte object until we have iterated through the entire list of characters. In all other cases, we rewrite the same bytes object as read:"
      ],
      "metadata": {
        "id": "4J2ly5EI_CMw"
      }
    },
    {
      "cell_type": "code",
      "source": [
        "def write_pixel(self, chars=[], i=0, checkMessage=\"N\", prime=False):\n",
        "    theBytes = self._imageFile.read(3)\n",
        "\n",
        "    if len(theBytes) == 3:\n",
        "       red = theBytes[0]\n",
        "       green = theBytes[1]\n",
        "       blue = theBytes[2]\n",
        "\n",
        "       if prime == True and i < len(chars):\n",
        "          self._imageFile.seek(-3, SEEK_CUR)\n",
        "          self._imageFile.write(bytes([chars[i], green, blue]))\n",
        "          if checkMessage == \"Y\":\n",
        "             print(bytes([chars[i], green, blue]))\n",
        "       else:\n",
        "          self._imageFile.seek(-3, SEEK_CUR)\n",
        "          self._imageFile.write(bytes([red, green, blue]))"
      ],
      "metadata": {
        "id": "manHWZyQBt5K"
      },
      "execution_count": null,
      "outputs": []
    },
    {
      "cell_type": "markdown",
      "source": [
        "Recall from step two that we have to read a sequences of four bytes from the header and convert them to little-endian integers. The read_int() method will accept the offset as an argument and move the file handle there. A sequence of four bytes ware read, then we iterate over the bytes, multiplying each byte with its power of 256, and adding it to the result. When finished, we return the result:"
      ],
      "metadata": {
        "id": "mycfrT_YDK6C"
      }
    },
    {
      "cell_type": "code",
      "source": [
        "def read_int(self, offset):\n",
        "   self._imageFile.seek(offset)\n",
        "\n",
        "   theBytes = self._imageFile.read(4)\n",
        "   result = 0\n",
        "   base = 1\n",
        "   for i in range(4):\n",
        "      result - result + theBytes[i] * base\n",
        "      base = base * 256\n",
        "\n",
        "   return result"
      ],
      "metadata": {
        "id": "yeWuknWbESi4"
      },
      "execution_count": null,
      "outputs": []
    },
    {
      "cell_type": "markdown",
      "source": [
        "# Step 4: Run and Test Program"
      ],
      "metadata": {
        "id": "VfR5fwW5QDNy"
      }
    },
    {
      "cell_type": "markdown",
      "source": [
        "Most of the program will have been complete after the class definition, except for creating a class object for the user. In the main, we ask for three inputs: the file name, user text, and user key. Then, we call the vigenereCipher() function and assign it to encryptedText, and call the same function for decryptedText but with the encryptedText. The program proceeds to construct the cipherImage object, and calls the .enter_cipher_text method with the encryptedText. Then, the body of the program is run with cipherImage.main().\n",
        "\n",
        "The full imageprocessing.py program is included below."
      ],
      "metadata": {
        "id": "wqcAlcW1QPwo"
      }
    },
    {
      "cell_type": "code",
      "source": [
        "from io import SEEK_CUR\n",
        "from sys import exit\n",
        "from sys import argv\n",
        "import random\n",
        "\n",
        "class ImageProcess:\n",
        "   \"\"\"\n",
        "   ImageProcess class for writing encrypted messages to\n",
        "   pixels of image using the Vigenère cipher method.\n",
        "   \"\"\"\n",
        "   def __init__(self, filename):\n",
        "      \"\"\"\n",
        "      Initializes the ImageProcess object.\n",
        "\n",
        "      Parameters:\n",
        "      - filename(str): The name of the image file.\n",
        "      \"\"\"\n",
        "      self._filename = filename\n",
        "      self._imageFile = \"\"\n",
        "      self._cipherText = \"\"\n",
        "      self._checkMessage = \"\"\n",
        "      self._encryptedChars = []\n",
        "      self._width = 0\n",
        "      self._start = 0\n",
        "      self._height = 0\n",
        "\n",
        "   def enter_cipher_text(self, cipherText):\n",
        "      \"\"\"\n",
        "      Enters the cipher text for writing.\n",
        "\n",
        "      Parameters:\n",
        "      - cipherText (str): The encrypted message provided by the user.\n",
        "      \"\"\"\n",
        "      self._cipherText = cipherText\n",
        "      for i in range(len(cipherText)):\n",
        "            # Takes encrypted text, converts each character to its ASCII code, and\n",
        "            # appends the ASCII code to the empty list encryptedChars.\n",
        "         self._encryptedChars.append(ord(cipherText[i]))\n",
        "\n",
        "   def main(self):\n",
        "      askCheck = input(\"Enter Y if you want to check the message, else enter N: \")\n",
        "      self._checkMessage = askCheck\n",
        "\n",
        "      # Opens the binary file for reading and writing.\n",
        "      self._imageFile = open(self._filename, \"rb+\")\n",
        "\n",
        "      # Extracts information from the image header.\n",
        "      fileSize = self.read_int(2)\n",
        "      self._start = self.read_int(10)\n",
        "      self._width = self.read_int(18)\n",
        "      self._height = self.read_int(22)\n",
        "\n",
        "      maxStartingPoint = self._width - self._start\n",
        "      startingPoint = self.generate_prime_start(10, min(99, maxStartingPoint))\n",
        "      textSize = len(self._encryptedChars)\n",
        "      skipOrder = \"8082737769\"\n",
        "      userHint = str(startingPoint) + skipOrder + str(textSize)\n",
        "      hintMessage = print(f'Here is your clue: {userHint}')\n",
        "      imageSize = self._width * self._height * 3\n",
        "\n",
        "      # Determines that scan lines occupy multiples of four bytes.\n",
        "      padding = self.calculate_padding(0, self._width)\n",
        "\n",
        "      charsCount = 0\n",
        "      for row in range(self._height):\n",
        "         for col in range(self._width):\n",
        "            if self.is_prime(col):\n",
        "               self.write_pixel(chars=self._encryptedChars,i=charsCount, checkMessage=self._checkMessage, prime=True)\n",
        "               charsCount += 1\n",
        "            else:\n",
        "               self.write_pixel()\n",
        "\n",
        "         # Moves file pointer to skip over empty spaces and/or padding.\n",
        "         padding = self.calculate_padding(self._imageFile.tell(), self._width)\n",
        "         self._imageFile.seek(padding, SEEK_CUR)\n",
        "\n",
        "      self._imageFile.close()\n",
        "\n",
        "      if self._checkMessage == \"Y\":\n",
        "         print(\"Now decrypt the message according to the Vigenère cipher method.\")\n",
        "\n",
        "   def calculate_padding(self, current_position):\n",
        "      \"\"\"\n",
        "      Calculates the padding necessary to align the current position to the next multiple of 4.\n",
        "\n",
        "      Parameters:\n",
        "      - current_position (int): The current index of the pointer.\n",
        "\n",
        "      Returns:\n",
        "      -int: Padding of 0 if the number of row pixels is a multiple of 4, else returns\n",
        "            the number of bytes requires to align to the next multiple of 4.\n",
        "      \"\"\"\n",
        "      # The total size of the row in bytes.\n",
        "      line_size = self._width * 3\n",
        "      # Checks if the total size of the row plus the\n",
        "      # current position is already a multiple of 4.\n",
        "      if (current_position + line_size) % 4 == 0:\n",
        "         return 0\n",
        "      else:\n",
        "         # Determines how many bytes are required to reach the next\n",
        "         # multiple of 4, subtracting that number from 4 to find the number\n",
        "         # of bytes necessary to align to the next multiple of 4.\n",
        "         return 4 - (current_position + line_size) % 4\n",
        "\n",
        "   def is_prime(self, col):\n",
        "      \"\"\"\n",
        "      Determines if the index position of the column is prime.\n",
        "\n",
        "      Parameters:\n",
        "      - col (int): The column position in the row.\n",
        "\n",
        "      Returns:\n",
        "      - bool: True if it is prime, else False.\n",
        "      \"\"\"\n",
        "      if col < 2:\n",
        "         return False\n",
        "      for i in range(2, int(col**0.5) + 1):\n",
        "         if col % i == 0:\n",
        "            return False\n",
        "      return True\n",
        "\n",
        "   def generate_prime_start(self, min_value, max_value):\n",
        "      \"\"\"\n",
        "      Generates a prime number index at which the first character of the cipher text is inserted.\n",
        "\n",
        "      Parameters:\n",
        "      - min_value (int): The lower bound of the range.\n",
        "      - max_value (int): The upper bound of the range.\n",
        "\n",
        "      Returns:\n",
        "      - int: The random prime number integer.\n",
        "      \"\"\"\n",
        "      num = random.randint(min_value, max_value)\n",
        "\n",
        "      # Continues generating number until it is prime.\n",
        "      while not self.is_prime(num):\n",
        "         num = random.randint(min_value, max_value)\n",
        "\n",
        "      return num\n",
        "\n",
        "   def write_pixel(self, chars=[], i=0, checkMessage=\"N\", prime=False):\n",
        "      \"\"\"\n",
        "      Takes pixel and inserts character at the red byte representing\n",
        "      8 bits if it is in a prime position in the row, until all characters\n",
        "      in the encrypted message are stored. If not prime, it writes\n",
        "      the original pixel.\n",
        "\n",
        "      Parameters:\n",
        "      - chars (list): The the list of characters or ASCII codes from the encrypted text.\n",
        "      - i (int): The index in the chars list when called.\n",
        "      - width (int): The width of the image row.\n",
        "      - checkMessage (str): The keyword argument to indicate whether to print characters.\n",
        "      - prime (bool): The keyword argument to indicate if pixel position is prime.\n",
        "      \"\"\"\n",
        "      theBytes = self._imageFile.read(3)\n",
        "\n",
        "      if len(theBytes) == 3:\n",
        "         red = theBytes[0]\n",
        "         green = theBytes[1]\n",
        "         blue = theBytes[2]\n",
        "\n",
        "         if prime == True and i < len(chars):\n",
        "            self._imageFile.seek(-3, SEEK_CUR)\n",
        "               # Inserts ASCII number of encrypted text character where the byte for red was placed.\n",
        "            self._imageFile.write(bytes([chars[i], green, blue]))\n",
        "            if checkMessage == \"Y\":\n",
        "               print(bytes([chars[i], green, blue]))\n",
        "         else:\n",
        "            self._imageFile.seek(-3, SEEK_CUR)\n",
        "            self._imageFile.write(bytes([red, green, blue]))\n",
        "\n",
        "   def read_int(self, offset):\n",
        "      \"\"\"\n",
        "      Converts a series of four bytes to a little-endian integer.\n",
        "\n",
        "      Parameters:\n",
        "      - offset (int): The offset to read the integer based on the header information.\n",
        "\n",
        "      Returns:\n",
        "      - int: The integer from the four bytes at that offset\n",
        "             (2 for file size; 10 for offset; 18 for width; and 22 for height.)\n",
        "      \"\"\"\n",
        "      self._imageFile.seek(offset)\n",
        "\n",
        "      theBytes = self._imageFile.read(4)\n",
        "      result = 0\n",
        "      base = 1\n",
        "      for i in range(4):\n",
        "         result = result + theBytes[i] * base\n",
        "         base = base * 256\n",
        "\n",
        "      return result\n",
        "\n",
        "def vigenereCipher(textInput, keyword, mode):\n",
        "    \"\"\"\n",
        "    Converts the input text by the user and returns the encrypted or decrypted text according\n",
        "    to the Vigenère cipher method with the shift of the uppercase character in the keyword.\n",
        "\n",
        "    Parameters:\n",
        "    - textInput (str): The character in the text to be encoded or decoded.\n",
        "    - keyword (str): The keyword on which encryption or decryption shift is based.\n",
        "    - mode (str): The mode indicating whether to 'encrypt' or 'decrypt'.\n",
        "\n",
        "    Returns:\n",
        "    - resultText (str): The resulting text of encryption or decryption.\n",
        "    \"\"\"\n",
        "    resultText = \"\"\n",
        "    keyword = keyword.upper()\n",
        "    key_index = 0\n",
        "\n",
        "    for char in textInput:\n",
        "        if char.isalpha():\n",
        "            # Determines difference of input character from capital letter A in the ASCII table.\n",
        "            shift = ord(char.upper()) - ord('A')\n",
        "\n",
        "            if mode == 'encrypt':\n",
        "               # Adds by keyword character from capital letter A for encryption.\n",
        "               shift += (ord(keyword[key_index]) - ord('A'))\n",
        "            elif mode == 'decrypt':\n",
        "               # Subtracts by keyword character from capital letter A for decryption.\n",
        "               shift -= (ord(keyword[key_index]) - ord('A'))\n",
        "\n",
        "            # Ensures the shift does not exceed the length of the alphabet of 26.\n",
        "            encrypt_shift = shift % 26\n",
        "\n",
        "            # Determines whether textInput character is uppercase or lowercase,\n",
        "            # providing the offset to be used in calculation.\n",
        "            if char.isupper():\n",
        "               resultText += chr(encrypt_shift + ord('A'))\n",
        "            else:\n",
        "               resultText += chr(encrypt_shift + ord('a'))\n",
        "\n",
        "            key_index += 1\n",
        "            if key_index == len(keyword):\n",
        "               key_index = 0\n",
        "        else:\n",
        "            resultText += char\n",
        "\n",
        "    return resultText\n",
        "\n",
        "if __name__ in '__main__':\n",
        "   filename = input(\"Enter name of image file: \")\n",
        "   userText = input(\"Enter the text you want to encrypt: \")\n",
        "   userKey = input(\"Enter the key you want to use: \")\n",
        "\n",
        "   encryptedText = vigenereCipher(userText, userKey)\n",
        "   decryptedText = vigenereCipher(encryptedText, userKey)\n",
        "\n",
        "   cipherImage = ImageProcess(filename)\n",
        "   cipherImage.enter_cipher_text(encryptedText)\n",
        "   cipherImage.main()"
      ],
      "metadata": {
        "id": "VvW0LyT2Ok8I"
      },
      "execution_count": null,
      "outputs": []
    }
  ]
}